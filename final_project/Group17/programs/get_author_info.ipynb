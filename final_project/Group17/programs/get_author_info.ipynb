{
 "cells": [
  {
   "cell_type": "markdown",
   "metadata": {},
   "source": [
    "### This file is used for finding authors' information on linux kernel.\n",
    "### Educational purpose only, do not use for other purpose please!\n",
    "#### Author: Yichen Wang, Lanzhou University   Sid:320180940341"
   ]
  },
  {
   "cell_type": "code",
   "execution_count": 2,
   "metadata": {},
   "outputs": [],
   "source": [
    "import unicodedata\n",
    "import csv\n",
    "from subprocess import Popen, PIPE"
   ]
  },
  {
   "cell_type": "markdown",
   "metadata": {},
   "source": [
    "We recognise every author as an object"
   ]
  },
  {
   "cell_type": "code",
   "execution_count": 3,
   "metadata": {},
   "outputs": [],
   "source": [
    "class author:\n",
    "    def __init__(self,name):\n",
    "        \"\"\"\n",
    "        For each author you need to provide his or her name\n",
    "        Key arguments:\n",
    "        name -- author's name\n",
    "        commit -- each commits' time\n",
    "        \"\"\"\n",
    "        self.name = name\n",
    "        self.commit = []\n",
    "     \n",
    "    # add_time is to add commit's time to the commit\n",
    "    def add_time(self,time):\n",
    "        self.commit.append(time)\n",
    "       \n",
    "    # get_times is to get total times of commits\n",
    "    def get_times(self):\n",
    "        return len(self.commit)\n",
    "    \n",
    "    # get_average is to get the average time difference between time\n",
    "    def get_average(self):\n",
    "        if len(self.commit) == 1:\n",
    "            return 0\n",
    "        sum = 0\n",
    "        for i in range(0,len(self.commit)-1):\n",
    "            self.commit[i] = abs(self.commit[i+1]-self.commit[i])\n",
    "            sum += self.commit[i]\n",
    "        return sum//(len(self.commit)-1)"
   ]
  },
  {
   "cell_type": "markdown",
   "metadata": {},
   "source": [
    "We recognise every log as an object"
   ]
  },
  {
   "cell_type": "code",
   "execution_count": 4,
   "metadata": {},
   "outputs": [],
   "source": [
    "class log:\n",
    "    def __init__(self,verran):\n",
    "        \"\"\"\n",
    "        For each log you need to provide the range in a certain version you need to check\n",
    "        Key arguments:\n",
    "        verran -- the range in a certain version\n",
    "        \"\"\"\n",
    "        self.verran = verran\n",
    "        self.repo = \"D:/kernel/linux-stable\"\n",
    "        self.author = {}\n",
    "    \n",
    "    # get_data is to get the origin data that we need to work on \n",
    "    def get_data(self):\n",
    "        cmd = [\"git\", \"log\", \"-P\", \"--no-merges\", \"--pretty=format:\\\"  %an : %ct\\\"\", self.verran]\n",
    "        p = Popen(cmd, cwd=self.repo, stdout=PIPE)\n",
    "        data, res = p.communicate()\n",
    "        data = unicodedata.normalize(u'NFKD', data.decode(encoding=\"utf-8\", errors=\"ignore\"))\n",
    "        return data\n",
    "    \n",
    "    # get_author is to return two list which store the info\n",
    "    def get_author(self):\n",
    "        au = []\n",
    "        date = []\n",
    "        for line in self.get_data().split(\"\\n\"):\n",
    "            for i in line.split(\":\"):\n",
    "                if i[3].isdigit():\n",
    "                    date.append(eval(i[1:11]))\n",
    "                else:\n",
    "                    au.append(i[3:])\n",
    "        return au,date\n",
    "    \n",
    "    # complete_author is to fill in the dict defined in __init__\n",
    "    def complete_author(self):\n",
    "        au,date = self.get_author()\n",
    "        for i in range(0,len(au)):\n",
    "            if au[i] in self.author:\n",
    "                self.author[au[i]].append(date[i])\n",
    "            else:\n",
    "                self.author[au[i]] = [date[i]]\n",
    "        return self.author\n",
    "        "
   ]
  },
  {
   "cell_type": "markdown",
   "metadata": {},
   "source": [
    "Then we change the dict to the class"
   ]
  },
  {
   "cell_type": "code",
   "execution_count": 5,
   "metadata": {},
   "outputs": [],
   "source": [
    "def dict2class(d={}):\n",
    "    auth = []\n",
    "    for i in d.keys():\n",
    "        new = author(i)\n",
    "        for j in d[i]:\n",
    "            new.add_time(j)\n",
    "        auth.append(new)\n",
    "    return auth"
   ]
  },
  {
   "cell_type": "markdown",
   "metadata": {},
   "source": [
    "Main"
   ]
  },
  {
   "cell_type": "code",
   "execution_count": 11,
   "metadata": {},
   "outputs": [],
   "source": [
    "def main():\n",
    "    b = log(\"v4.1..v4.9\").complete_author()\n",
    "    au = dict2class(b)\n",
    "    info = []\n",
    "    with open('result.csv','w',encoding='utf-8') as csvfile:\n",
    "        spamwriter=csv.writer(csvfile, dialect='excel')\n",
    "        spamwriter.writerow([\"author\",\"times\",\"average\"])\n",
    "        for i in au:\n",
    "            info = [i.name, i.get_times(), i.get_average()]\n",
    "            spamwriter.writerow(info)\n",
    "\n",
    "if __name__ == \"__main__\":\n",
    "    main() "
   ]
  },
  {
   "cell_type": "code",
   "execution_count": null,
   "metadata": {},
   "outputs": [],
   "source": []
  }
 ],
 "metadata": {
  "kernelspec": {
   "display_name": "Python 3",
   "language": "python",
   "name": "python3"
  },
  "language_info": {
   "codemirror_mode": {
    "name": "ipython",
    "version": 3
   },
   "file_extension": ".py",
   "mimetype": "text/x-python",
   "name": "python",
   "nbconvert_exporter": "python",
   "pygments_lexer": "ipython3",
   "version": "3.7.0"
  }
 },
 "nbformat": 4,
 "nbformat_minor": 2
}
